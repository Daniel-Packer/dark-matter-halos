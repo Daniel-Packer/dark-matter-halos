{
 "cells": [
  {
   "cell_type": "code",
   "execution_count": 1,
   "id": "ae1ebe84-6420-401f-9a9e-704f490f2abe",
   "metadata": {},
   "outputs": [],
   "source": [
    "%load_ext autoreload\n",
    "%autoreload 2"
   ]
  },
  {
   "cell_type": "code",
   "execution_count": 2,
   "id": "300a56b2-70ba-4d37-b329-35122f99fcad",
   "metadata": {},
   "outputs": [],
   "source": [
    "from subsample import *\n",
    "import numpy as np\n",
    "from jax import numpy as jnp, jit, random, vmap\n",
    "import jax\n",
    "from pathlib import Path\n",
    "import pickle\n",
    "import plotly.express as px\n",
    "from ott.tools import k_means\n",
    "from ott.geometry.pointcloud import PointCloud\n",
    "import matplotlib.pyplot as plt\n",
    "import seaborn as sns\n",
    "rng = random.PRNGKey(0)\n",
    "\n",
    "root_path = Path(\"../..\")\n",
    "data_path = root_path / \"data\""
   ]
  },
  {
   "cell_type": "code",
   "execution_count": 3,
   "id": "31eea9a7-7bb4-4c3d-9b73-119d7b6acb1e",
   "metadata": {},
   "outputs": [],
   "source": [
    "points_array, properties = pickle.load(open(data_path / \"halos.pkl\", 'rb'))\n",
    "points_list = [preprocess_pointcloud(p[\"Coordinates\"]) for p in points_array]\n",
    "velocities_list = [p[\"Velocities\"] for p in points_array]"
   ]
  },
  {
   "cell_type": "code",
   "execution_count": 9,
   "id": "d0cdda0e-da33-4dce-9ef7-21f496e52296",
   "metadata": {
    "scrolled": true
   },
   "outputs": [
    {
     "ename": "AssertionError",
     "evalue": "Convergence failed :( in 40.0% of cases",
     "output_type": "error",
     "traceback": [
      "\u001b[0;31m---------------------------------------------------------------------------\u001b[0m",
      "\u001b[0;31mAssertionError\u001b[0m                            Traceback (most recent call last)",
      "File \u001b[0;32m~/documents/noteboooks/dark-matter-halos/src/subsampling/subsample.py:77\u001b[0m, in \u001b[0;36mkmeans_downsample_points\u001b[0;34m(points_list, downsample_size, n_trials, pbar, rng, outer_loop_size, require_convergence, max_iterations)\u001b[0m\n\u001b[1;32m     76\u001b[0m \u001b[38;5;28;01mtry\u001b[39;00m:\n\u001b[0;32m---> 77\u001b[0m     \u001b[38;5;28;01massert\u001b[39;00m jnp\u001b[38;5;241m.\u001b[39mall(group_output\u001b[38;5;241m.\u001b[39mconverged)\n\u001b[1;32m     78\u001b[0m \u001b[38;5;28;01mexcept\u001b[39;00m \u001b[38;5;167;01mAssertionError\u001b[39;00m:\n",
      "\u001b[0;31mAssertionError\u001b[0m: ",
      "\nDuring handling of the above exception, another exception occurred:\n",
      "\u001b[0;31mAssertionError\u001b[0m                            Traceback (most recent call last)",
      "Cell \u001b[0;32mIn[9], line 9\u001b[0m\n\u001b[1;32m      7\u001b[0m \u001b[38;5;28;01mif\u001b[39;00m include_velocities:\n\u001b[1;32m      8\u001b[0m     points_velos_list \u001b[38;5;241m=\u001b[39m [jnp\u001b[38;5;241m.\u001b[39mconcatenate([p, v], \u001b[38;5;241m-\u001b[39m\u001b[38;5;241m1\u001b[39m) \u001b[38;5;28;01mfor\u001b[39;00m p, v \u001b[38;5;129;01min\u001b[39;00m \u001b[38;5;28mzip\u001b[39m(points_list, velocities_list)]\n\u001b[0;32m----> 9\u001b[0m     sampled_points, sampled_weights \u001b[38;5;241m=\u001b[39m kmeans_downsample_points(points_velos_list[:\u001b[38;5;241m5\u001b[39m],\n\u001b[1;32m     10\u001b[0m                                                                downsample_size,\n\u001b[1;32m     11\u001b[0m                                                                n_trials,\n\u001b[1;32m     12\u001b[0m                                                                pbar\u001b[38;5;241m=\u001b[39m\u001b[38;5;28;01mTrue\u001b[39;00m,\n\u001b[1;32m     13\u001b[0m                                                                rng\u001b[38;5;241m=\u001b[39mrng,\n\u001b[1;32m     14\u001b[0m                                                                outer_loop_size\u001b[38;5;241m=\u001b[39m\u001b[38;5;241m5\u001b[39m,\n\u001b[1;32m     15\u001b[0m                                                                require_convergence\u001b[38;5;241m=\u001b[39m\u001b[38;5;28;01mTrue\u001b[39;00m,\n\u001b[1;32m     16\u001b[0m                                                                max_iterations\u001b[38;5;241m=\u001b[39m\u001b[38;5;241m10_000\u001b[39m)\n\u001b[1;32m     17\u001b[0m     \u001b[38;5;66;03m# output = kmeans_downsample_points(points_velos_list[:5], downsample_size, n_trials, pbar=True, rng=rng)\u001b[39;00m\n\u001b[1;32m     18\u001b[0m \u001b[38;5;28;01melse\u001b[39;00m:\n\u001b[1;32m     19\u001b[0m     sampled_points, sampled_weights \u001b[38;5;241m=\u001b[39m kmeans_downsample_points(points_list, downsample_size, n_trials, pbar\u001b[38;5;241m=\u001b[39m\u001b[38;5;28;01mTrue\u001b[39;00m, rng\u001b[38;5;241m=\u001b[39mrng)\n",
      "File \u001b[0;32m~/documents/noteboooks/dark-matter-halos/src/subsampling/subsample.py:79\u001b[0m, in \u001b[0;36mkmeans_downsample_points\u001b[0;34m(points_list, downsample_size, n_trials, pbar, rng, outer_loop_size, require_convergence, max_iterations)\u001b[0m\n\u001b[1;32m     77\u001b[0m             \u001b[38;5;28;01massert\u001b[39;00m jnp\u001b[38;5;241m.\u001b[39mall(group_output\u001b[38;5;241m.\u001b[39mconverged)\n\u001b[1;32m     78\u001b[0m         \u001b[38;5;28;01mexcept\u001b[39;00m \u001b[38;5;167;01mAssertionError\u001b[39;00m:\n\u001b[0;32m---> 79\u001b[0m             \u001b[38;5;28;01mraise\u001b[39;00m \u001b[38;5;167;01mAssertionError\u001b[39;00m(\u001b[38;5;124mf\u001b[39m\u001b[38;5;124m\"\u001b[39m\u001b[38;5;124mConvergence failed :( in \u001b[39m\u001b[38;5;132;01m{\u001b[39;00m\u001b[38;5;241m100\u001b[39m\u001b[38;5;250m \u001b[39m\u001b[38;5;241m*\u001b[39m\u001b[38;5;250m \u001b[39mjnp\u001b[38;5;241m.\u001b[39mmean(\u001b[38;5;241m1\u001b[39m\u001b[38;5;250m \u001b[39m\u001b[38;5;241m-\u001b[39m\u001b[38;5;250m \u001b[39mgroup_output\u001b[38;5;241m.\u001b[39mconverged)\u001b[38;5;132;01m:\u001b[39;00m\u001b[38;5;124m.1f\u001b[39m\u001b[38;5;132;01m}\u001b[39;00m\u001b[38;5;124m% of cases\u001b[39m\u001b[38;5;124m\"\u001b[39m)\n\u001b[1;32m     80\u001b[0m centroid \u001b[38;5;241m=\u001b[39m jnp\u001b[38;5;241m.\u001b[39mconcatenate(centroids, \u001b[38;5;241m0\u001b[39m)\n\u001b[1;32m     81\u001b[0m assignment \u001b[38;5;241m=\u001b[39m jnp\u001b[38;5;241m.\u001b[39mconcatenate(assignments, \u001b[38;5;241m0\u001b[39m)\n",
      "\u001b[0;31mAssertionError\u001b[0m: Convergence failed :( in 40.0% of cases"
     ]
    }
   ],
   "source": [
    "downsample_size = 100\n",
    "n_trials = 10\n",
    "include_velocities = True\n",
    "\n",
    "# points_list, downsample_size, n_trials, pbar=False, rng=None\n",
    "# centroids, weights = kmeans_downsample_points(points_list[:2], downsample_size, n_trials, pbar=True, rng=rng)\n",
    "if include_velocities:\n",
    "    points_velos_list = [\n",
    "        jnp.concatenate([p, v], -1) for p, v in zip(points_list, velocities_list)\n",
    "    ]\n",
    "    sampled_points, sampled_weights = kmeans_downsample_points(\n",
    "        points_velos_list[:5],\n",
    "        downsample_size,\n",
    "        n_trials,\n",
    "        pbar=True,\n",
    "        rng=rng,\n",
    "        outer_loop_size=5,\n",
    "        require_convergence=True,\n",
    "        max_iterations=10_000,\n",
    "    )\n",
    "    # output = kmeans_downsample_points(points_velos_list[:5], downsample_size, n_trials, pbar=True, rng=rng)\n",
    "else:\n",
    "    sampled_points, sampled_weights = kmeans_downsample_points(\n",
    "        points_list, downsample_size, n_trials, pbar=True, rng=rng\n",
    "    )\n",
    "# jnp.savez(data_path / f\"kmeans_subsampled_n{n_trials}_s{downsample_size}_v{'I' if include_velocities else 'O'}.npz\", points=sampled_points, weights=sampled_weights)"
   ]
  },
  {
   "cell_type": "code",
   "execution_count": null,
   "id": "e8765f72-a96c-4d57-b989-6997680ed094",
   "metadata": {},
   "outputs": [],
   "source": [
    "sampled_points\n",
    "# jnp.savez(data_path / f\"kmeans_subsampled_n{n_trials}_s{downsample_size}_v{'I' if include_velocities else 'O'}.npz\", points=sampled_points, weights=sampled_weights)"
   ]
  },
  {
   "cell_type": "code",
   "execution_count": 22,
   "id": "7ca4f4a1-2ffc-41d1-a6f8-d5e26cfd69cd",
   "metadata": {},
   "outputs": [
    {
     "data": {
      "application/vnd.plotly.v1+json": {
       "config": {
        "plotlyServerURL": "https://plot.ly"
       },
       "data": [
        {
         "hovertemplate": "x=%{x}<br>y=%{y}<br>z=%{z}<extra></extra>",
         "legendgroup": "",
         "marker": {
          "color": "#636efa",
          "symbol": "circle"
         },
         "mode": "markers",
         "name": "",
         "scene": "scene",
         "showlegend": false,
         "type": "scatter3d",
         "x": [
          25223.40234375,
          25227.357421875,
          25227.314453125,
          25222.83203125,
          25231.595703125,
          25229.98046875,
          25226.607421875,
          25223.83984375,
          25228.625,
          25292.234375,
          25169.53125,
          25221.173828125,
          25229.5859375,
          25222.09375,
          25221.525390625,
          25218.24609375,
          25225.5703125,
          25227.607421875,
          25227.9296875,
          25227.11328125,
          25221.68359375,
          25252.365234375,
          25227.1640625,
          25224.08203125,
          25165.44921875,
          25227.9453125,
          25229.484375,
          25230.83984375,
          25184.5546875,
          25233.0546875,
          25226.203125,
          25280.326171875,
          25231.693359375,
          25163.669921875,
          25291.857421875,
          25275.13671875,
          25246.83203125,
          25225.013671875,
          25231.5703125,
          25192.533203125,
          25316.67578125,
          25208.46484375,
          25197.814453125,
          25306.7421875,
          25226.171875,
          25175.25,
          25251.03125,
          25226.486328125,
          25220.427734375,
          25179.46484375
         ],
         "y": [
          73388.8125,
          73381.703125,
          73390.609375,
          73388.640625,
          73395.34375,
          73381.765625,
          73392.9609375,
          73386.6875,
          73390.3671875,
          73357.5625,
          73392.1796875,
          73387.640625,
          73370.1484375,
          73389.03125,
          73387.6484375,
          73389.1484375,
          73388.0234375,
          73387.78125,
          73390.4609375,
          73389.484375,
          73387.015625,
          73447.234375,
          73384.6875,
          73384.265625,
          73409.609375,
          73387.1328125,
          73388.4375,
          73390.484375,
          73320.4375,
          73382.59375,
          73391.4375,
          73331.5859375,
          73393.1328125,
          73393.9921875,
          73364.359375,
          73417.796875,
          73308.515625,
          73387.859375,
          73375.7421875,
          73332.4453125,
          73344.5,
          73440.53125,
          73438.515625,
          73356.3125,
          73393.2734375,
          73454.75,
          73326.484375,
          73387.28125,
          73389.6484375,
          73411.2109375
         ],
         "z": [
          66.98692321777344,
          68.48153686523438,
          67.12548828125,
          69.47904968261719,
          56.5922966003418,
          48.528709411621094,
          64.08170318603516,
          66.34937286376953,
          62.273311614990234,
          66.74800109863281,
          -52.2626838684082,
          64.54036712646484,
          66.9141845703125,
          65.95596313476562,
          67.8768539428711,
          59.640663146972656,
          65.9057846069336,
          65.96334838867188,
          69.3965072631836,
          65.61050415039062,
          65.07281494140625,
          39.262718200683594,
          63.49248504638672,
          68.34153747558594,
          86.64723205566406,
          66.17135620117188,
          68.61428833007812,
          68.86550903320312,
          29.909317016601562,
          64.66780090332031,
          69.2198486328125,
          35.212989807128906,
          66.36369323730469,
          95.40343475341797,
          83.7707748413086,
          75.64916229248047,
          41.84177017211914,
          67.9421157836914,
          48.73359680175781,
          53.772239685058594,
          91.21330261230469,
          106.22058868408203,
          92.28881072998047,
          42.24998092651367,
          64.05490112304688,
          81.00542449951172,
          96.42363739013672,
          64.94633483886719,
          67.6017074584961,
          -9.92190170288086
         ]
        }
       ],
       "layout": {
        "autosize": true,
        "legend": {
         "tracegroupgap": 0
        },
        "margin": {
         "t": 60
        },
        "scene": {
         "aspectmode": "auto",
         "aspectratio": {
          "x": 1.0033699120479616,
          "y": 0.9589643990203471,
          "z": 1.0392892657289141
         },
         "camera": {
          "center": {
           "x": 0,
           "y": 0,
           "z": 0
          },
          "eye": {
           "x": 0.24538782352915678,
           "y": -0.9089754507134035,
           "z": 1.4844995453446828
          },
          "projection": {
           "type": "perspective"
          },
          "up": {
           "x": 0,
           "y": 0,
           "z": 1
          }
         },
         "domain": {
          "x": [
           0,
           1
          ],
          "y": [
           0,
           1
          ]
         },
         "xaxis": {
          "title": {
           "text": "x"
          },
          "type": "linear"
         },
         "yaxis": {
          "title": {
           "text": "y"
          },
          "type": "linear"
         },
         "zaxis": {
          "title": {
           "text": "z"
          },
          "type": "linear"
         }
        },
        "template": {
         "data": {
          "bar": [
           {
            "error_x": {
             "color": "#2a3f5f"
            },
            "error_y": {
             "color": "#2a3f5f"
            },
            "marker": {
             "line": {
              "color": "#E5ECF6",
              "width": 0.5
             },
             "pattern": {
              "fillmode": "overlay",
              "size": 10,
              "solidity": 0.2
             }
            },
            "type": "bar"
           }
          ],
          "barpolar": [
           {
            "marker": {
             "line": {
              "color": "#E5ECF6",
              "width": 0.5
             },
             "pattern": {
              "fillmode": "overlay",
              "size": 10,
              "solidity": 0.2
             }
            },
            "type": "barpolar"
           }
          ],
          "carpet": [
           {
            "aaxis": {
             "endlinecolor": "#2a3f5f",
             "gridcolor": "white",
             "linecolor": "white",
             "minorgridcolor": "white",
             "startlinecolor": "#2a3f5f"
            },
            "baxis": {
             "endlinecolor": "#2a3f5f",
             "gridcolor": "white",
             "linecolor": "white",
             "minorgridcolor": "white",
             "startlinecolor": "#2a3f5f"
            },
            "type": "carpet"
           }
          ],
          "choropleth": [
           {
            "colorbar": {
             "outlinewidth": 0,
             "ticks": ""
            },
            "type": "choropleth"
           }
          ],
          "contour": [
           {
            "colorbar": {
             "outlinewidth": 0,
             "ticks": ""
            },
            "colorscale": [
             [
              0,
              "#0d0887"
             ],
             [
              0.1111111111111111,
              "#46039f"
             ],
             [
              0.2222222222222222,
              "#7201a8"
             ],
             [
              0.3333333333333333,
              "#9c179e"
             ],
             [
              0.4444444444444444,
              "#bd3786"
             ],
             [
              0.5555555555555556,
              "#d8576b"
             ],
             [
              0.6666666666666666,
              "#ed7953"
             ],
             [
              0.7777777777777778,
              "#fb9f3a"
             ],
             [
              0.8888888888888888,
              "#fdca26"
             ],
             [
              1,
              "#f0f921"
             ]
            ],
            "type": "contour"
           }
          ],
          "contourcarpet": [
           {
            "colorbar": {
             "outlinewidth": 0,
             "ticks": ""
            },
            "type": "contourcarpet"
           }
          ],
          "heatmap": [
           {
            "colorbar": {
             "outlinewidth": 0,
             "ticks": ""
            },
            "colorscale": [
             [
              0,
              "#0d0887"
             ],
             [
              0.1111111111111111,
              "#46039f"
             ],
             [
              0.2222222222222222,
              "#7201a8"
             ],
             [
              0.3333333333333333,
              "#9c179e"
             ],
             [
              0.4444444444444444,
              "#bd3786"
             ],
             [
              0.5555555555555556,
              "#d8576b"
             ],
             [
              0.6666666666666666,
              "#ed7953"
             ],
             [
              0.7777777777777778,
              "#fb9f3a"
             ],
             [
              0.8888888888888888,
              "#fdca26"
             ],
             [
              1,
              "#f0f921"
             ]
            ],
            "type": "heatmap"
           }
          ],
          "heatmapgl": [
           {
            "colorbar": {
             "outlinewidth": 0,
             "ticks": ""
            },
            "colorscale": [
             [
              0,
              "#0d0887"
             ],
             [
              0.1111111111111111,
              "#46039f"
             ],
             [
              0.2222222222222222,
              "#7201a8"
             ],
             [
              0.3333333333333333,
              "#9c179e"
             ],
             [
              0.4444444444444444,
              "#bd3786"
             ],
             [
              0.5555555555555556,
              "#d8576b"
             ],
             [
              0.6666666666666666,
              "#ed7953"
             ],
             [
              0.7777777777777778,
              "#fb9f3a"
             ],
             [
              0.8888888888888888,
              "#fdca26"
             ],
             [
              1,
              "#f0f921"
             ]
            ],
            "type": "heatmapgl"
           }
          ],
          "histogram": [
           {
            "marker": {
             "pattern": {
              "fillmode": "overlay",
              "size": 10,
              "solidity": 0.2
             }
            },
            "type": "histogram"
           }
          ],
          "histogram2d": [
           {
            "colorbar": {
             "outlinewidth": 0,
             "ticks": ""
            },
            "colorscale": [
             [
              0,
              "#0d0887"
             ],
             [
              0.1111111111111111,
              "#46039f"
             ],
             [
              0.2222222222222222,
              "#7201a8"
             ],
             [
              0.3333333333333333,
              "#9c179e"
             ],
             [
              0.4444444444444444,
              "#bd3786"
             ],
             [
              0.5555555555555556,
              "#d8576b"
             ],
             [
              0.6666666666666666,
              "#ed7953"
             ],
             [
              0.7777777777777778,
              "#fb9f3a"
             ],
             [
              0.8888888888888888,
              "#fdca26"
             ],
             [
              1,
              "#f0f921"
             ]
            ],
            "type": "histogram2d"
           }
          ],
          "histogram2dcontour": [
           {
            "colorbar": {
             "outlinewidth": 0,
             "ticks": ""
            },
            "colorscale": [
             [
              0,
              "#0d0887"
             ],
             [
              0.1111111111111111,
              "#46039f"
             ],
             [
              0.2222222222222222,
              "#7201a8"
             ],
             [
              0.3333333333333333,
              "#9c179e"
             ],
             [
              0.4444444444444444,
              "#bd3786"
             ],
             [
              0.5555555555555556,
              "#d8576b"
             ],
             [
              0.6666666666666666,
              "#ed7953"
             ],
             [
              0.7777777777777778,
              "#fb9f3a"
             ],
             [
              0.8888888888888888,
              "#fdca26"
             ],
             [
              1,
              "#f0f921"
             ]
            ],
            "type": "histogram2dcontour"
           }
          ],
          "mesh3d": [
           {
            "colorbar": {
             "outlinewidth": 0,
             "ticks": ""
            },
            "type": "mesh3d"
           }
          ],
          "parcoords": [
           {
            "line": {
             "colorbar": {
              "outlinewidth": 0,
              "ticks": ""
             }
            },
            "type": "parcoords"
           }
          ],
          "pie": [
           {
            "automargin": true,
            "type": "pie"
           }
          ],
          "scatter": [
           {
            "fillpattern": {
             "fillmode": "overlay",
             "size": 10,
             "solidity": 0.2
            },
            "type": "scatter"
           }
          ],
          "scatter3d": [
           {
            "line": {
             "colorbar": {
              "outlinewidth": 0,
              "ticks": ""
             }
            },
            "marker": {
             "colorbar": {
              "outlinewidth": 0,
              "ticks": ""
             }
            },
            "type": "scatter3d"
           }
          ],
          "scattercarpet": [
           {
            "marker": {
             "colorbar": {
              "outlinewidth": 0,
              "ticks": ""
             }
            },
            "type": "scattercarpet"
           }
          ],
          "scattergeo": [
           {
            "marker": {
             "colorbar": {
              "outlinewidth": 0,
              "ticks": ""
             }
            },
            "type": "scattergeo"
           }
          ],
          "scattergl": [
           {
            "marker": {
             "colorbar": {
              "outlinewidth": 0,
              "ticks": ""
             }
            },
            "type": "scattergl"
           }
          ],
          "scattermapbox": [
           {
            "marker": {
             "colorbar": {
              "outlinewidth": 0,
              "ticks": ""
             }
            },
            "type": "scattermapbox"
           }
          ],
          "scatterpolar": [
           {
            "marker": {
             "colorbar": {
              "outlinewidth": 0,
              "ticks": ""
             }
            },
            "type": "scatterpolar"
           }
          ],
          "scatterpolargl": [
           {
            "marker": {
             "colorbar": {
              "outlinewidth": 0,
              "ticks": ""
             }
            },
            "type": "scatterpolargl"
           }
          ],
          "scatterternary": [
           {
            "marker": {
             "colorbar": {
              "outlinewidth": 0,
              "ticks": ""
             }
            },
            "type": "scatterternary"
           }
          ],
          "surface": [
           {
            "colorbar": {
             "outlinewidth": 0,
             "ticks": ""
            },
            "colorscale": [
             [
              0,
              "#0d0887"
             ],
             [
              0.1111111111111111,
              "#46039f"
             ],
             [
              0.2222222222222222,
              "#7201a8"
             ],
             [
              0.3333333333333333,
              "#9c179e"
             ],
             [
              0.4444444444444444,
              "#bd3786"
             ],
             [
              0.5555555555555556,
              "#d8576b"
             ],
             [
              0.6666666666666666,
              "#ed7953"
             ],
             [
              0.7777777777777778,
              "#fb9f3a"
             ],
             [
              0.8888888888888888,
              "#fdca26"
             ],
             [
              1,
              "#f0f921"
             ]
            ],
            "type": "surface"
           }
          ],
          "table": [
           {
            "cells": {
             "fill": {
              "color": "#EBF0F8"
             },
             "line": {
              "color": "white"
             }
            },
            "header": {
             "fill": {
              "color": "#C8D4E3"
             },
             "line": {
              "color": "white"
             }
            },
            "type": "table"
           }
          ]
         },
         "layout": {
          "annotationdefaults": {
           "arrowcolor": "#2a3f5f",
           "arrowhead": 0,
           "arrowwidth": 1
          },
          "autotypenumbers": "strict",
          "coloraxis": {
           "colorbar": {
            "outlinewidth": 0,
            "ticks": ""
           }
          },
          "colorscale": {
           "diverging": [
            [
             0,
             "#8e0152"
            ],
            [
             0.1,
             "#c51b7d"
            ],
            [
             0.2,
             "#de77ae"
            ],
            [
             0.3,
             "#f1b6da"
            ],
            [
             0.4,
             "#fde0ef"
            ],
            [
             0.5,
             "#f7f7f7"
            ],
            [
             0.6,
             "#e6f5d0"
            ],
            [
             0.7,
             "#b8e186"
            ],
            [
             0.8,
             "#7fbc41"
            ],
            [
             0.9,
             "#4d9221"
            ],
            [
             1,
             "#276419"
            ]
           ],
           "sequential": [
            [
             0,
             "#0d0887"
            ],
            [
             0.1111111111111111,
             "#46039f"
            ],
            [
             0.2222222222222222,
             "#7201a8"
            ],
            [
             0.3333333333333333,
             "#9c179e"
            ],
            [
             0.4444444444444444,
             "#bd3786"
            ],
            [
             0.5555555555555556,
             "#d8576b"
            ],
            [
             0.6666666666666666,
             "#ed7953"
            ],
            [
             0.7777777777777778,
             "#fb9f3a"
            ],
            [
             0.8888888888888888,
             "#fdca26"
            ],
            [
             1,
             "#f0f921"
            ]
           ],
           "sequentialminus": [
            [
             0,
             "#0d0887"
            ],
            [
             0.1111111111111111,
             "#46039f"
            ],
            [
             0.2222222222222222,
             "#7201a8"
            ],
            [
             0.3333333333333333,
             "#9c179e"
            ],
            [
             0.4444444444444444,
             "#bd3786"
            ],
            [
             0.5555555555555556,
             "#d8576b"
            ],
            [
             0.6666666666666666,
             "#ed7953"
            ],
            [
             0.7777777777777778,
             "#fb9f3a"
            ],
            [
             0.8888888888888888,
             "#fdca26"
            ],
            [
             1,
             "#f0f921"
            ]
           ]
          },
          "colorway": [
           "#636efa",
           "#EF553B",
           "#00cc96",
           "#ab63fa",
           "#FFA15A",
           "#19d3f3",
           "#FF6692",
           "#B6E880",
           "#FF97FF",
           "#FECB52"
          ],
          "font": {
           "color": "#2a3f5f"
          },
          "geo": {
           "bgcolor": "white",
           "lakecolor": "white",
           "landcolor": "#E5ECF6",
           "showlakes": true,
           "showland": true,
           "subunitcolor": "white"
          },
          "hoverlabel": {
           "align": "left"
          },
          "hovermode": "closest",
          "mapbox": {
           "style": "light"
          },
          "paper_bgcolor": "white",
          "plot_bgcolor": "#E5ECF6",
          "polar": {
           "angularaxis": {
            "gridcolor": "white",
            "linecolor": "white",
            "ticks": ""
           },
           "bgcolor": "#E5ECF6",
           "radialaxis": {
            "gridcolor": "white",
            "linecolor": "white",
            "ticks": ""
           }
          },
          "scene": {
           "xaxis": {
            "backgroundcolor": "#E5ECF6",
            "gridcolor": "white",
            "gridwidth": 2,
            "linecolor": "white",
            "showbackground": true,
            "ticks": "",
            "zerolinecolor": "white"
           },
           "yaxis": {
            "backgroundcolor": "#E5ECF6",
            "gridcolor": "white",
            "gridwidth": 2,
            "linecolor": "white",
            "showbackground": true,
            "ticks": "",
            "zerolinecolor": "white"
           },
           "zaxis": {
            "backgroundcolor": "#E5ECF6",
            "gridcolor": "white",
            "gridwidth": 2,
            "linecolor": "white",
            "showbackground": true,
            "ticks": "",
            "zerolinecolor": "white"
           }
          },
          "shapedefaults": {
           "line": {
            "color": "#2a3f5f"
           }
          },
          "ternary": {
           "aaxis": {
            "gridcolor": "white",
            "linecolor": "white",
            "ticks": ""
           },
           "baxis": {
            "gridcolor": "white",
            "linecolor": "white",
            "ticks": ""
           },
           "bgcolor": "#E5ECF6",
           "caxis": {
            "gridcolor": "white",
            "linecolor": "white",
            "ticks": ""
           }
          },
          "title": {
           "x": 0.05
          },
          "xaxis": {
           "automargin": true,
           "gridcolor": "white",
           "linecolor": "white",
           "ticks": "",
           "title": {
            "standoff": 15
           },
           "zerolinecolor": "white",
           "zerolinewidth": 2
          },
          "yaxis": {
           "automargin": true,
           "gridcolor": "white",
           "linecolor": "white",
           "ticks": "",
           "title": {
            "standoff": 15
           },
           "zerolinecolor": "white",
           "zerolinewidth": 2
          }
         }
        }
       }
      },
      "image/png": "[encoded data removed]",
      "text/html": [
       "<div>                            <div id=\"a62771ed-09bd-4afd-ab41-b40a4cad5a4e\" class=\"plotly-graph-div\" style=\"height:525px; width:100%;\"></div>            <script type=\"text/javascript\">                require([\"plotly\"], function(Plotly) {                    window.PLOTLYENV=window.PLOTLYENV || {};                                    if (document.getElementById(\"a62771ed-09bd-4afd-ab41-b40a4cad5a4e\")) {                    Plotly.newPlot(                        \"a62771ed-09bd-4afd-ab41-b40a4cad5a4e\",                        [{\"hovertemplate\":\"x=%{x}\\u003cbr\\u003ey=%{y}\\u003cbr\\u003ez=%{z}\\u003cextra\\u003e\\u003c\\u002fextra\\u003e\",\"legendgroup\":\"\",\"marker\":{\"color\":\"#636efa\",\"symbol\":\"circle\"},\"mode\":\"markers\",\"name\":\"\",\"scene\":\"scene\",\"showlegend\":false,\"x\":[25223.40234375,25227.357421875,25227.314453125,25222.83203125,25231.595703125,25229.98046875,25226.607421875,25223.83984375,25228.625,25292.234375,25169.53125,25221.173828125,25229.5859375,25222.09375,25221.525390625,25218.24609375,25225.5703125,25227.607421875,25227.9296875,25227.11328125,25221.68359375,25252.365234375,25227.1640625,25224.08203125,25165.44921875,25227.9453125,25229.484375,25230.83984375,25184.5546875,25233.0546875,25226.203125,25280.326171875,25231.693359375,25163.669921875,25291.857421875,25275.13671875,25246.83203125,25225.013671875,25231.5703125,25192.533203125,25316.67578125,25208.46484375,25197.814453125,25306.7421875,25226.171875,25175.25,25251.03125,25226.486328125,25220.427734375,25179.46484375],\"y\":[73388.8125,73381.703125,73390.609375,73388.640625,73395.34375,73381.765625,73392.9609375,73386.6875,73390.3671875,73357.5625,73392.1796875,73387.640625,73370.1484375,73389.03125,73387.6484375,73389.1484375,73388.0234375,73387.78125,73390.4609375,73389.484375,73387.015625,73447.234375,73384.6875,73384.265625,73409.609375,73387.1328125,73388.4375,73390.484375,73320.4375,73382.59375,73391.4375,73331.5859375,73393.1328125,73393.9921875,73364.359375,73417.796875,73308.515625,73387.859375,73375.7421875,73332.4453125,73344.5,73440.53125,73438.515625,73356.3125,73393.2734375,73454.75,73326.484375,73387.28125,73389.6484375,73411.2109375],\"z\":[66.98692321777344,68.48153686523438,67.12548828125,69.47904968261719,56.5922966003418,48.528709411621094,64.08170318603516,66.34937286376953,62.273311614990234,66.74800109863281,-52.2626838684082,64.54036712646484,66.9141845703125,65.95596313476562,67.8768539428711,59.640663146972656,65.9057846069336,65.96334838867188,69.3965072631836,65.61050415039062,65.07281494140625,39.262718200683594,63.49248504638672,68.34153747558594,86.64723205566406,66.17135620117188,68.61428833007812,68.86550903320312,29.909317016601562,64.66780090332031,69.2198486328125,35.212989807128906,66.36369323730469,95.40343475341797,83.7707748413086,75.64916229248047,41.84177017211914,67.9421157836914,48.73359680175781,53.772239685058594,91.21330261230469,106.22058868408203,92.28881072998047,42.24998092651367,64.05490112304688,81.00542449951172,96.42363739013672,64.94633483886719,67.6017074584961,-9.92190170288086],\"type\":\"scatter3d\"}],                        {\"template\":{\"data\":{\"histogram2dcontour\":[{\"type\":\"histogram2dcontour\",\"colorbar\":{\"outlinewidth\":0,\"ticks\":\"\"},\"colorscale\":[[0.0,\"#0d0887\"],[0.1111111111111111,\"#46039f\"],[0.2222222222222222,\"#7201a8\"],[0.3333333333333333,\"#9c179e\"],[0.4444444444444444,\"#bd3786\"],[0.5555555555555556,\"#d8576b\"],[0.6666666666666666,\"#ed7953\"],[0.7777777777777778,\"#fb9f3a\"],[0.8888888888888888,\"#fdca26\"],[1.0,\"#f0f921\"]]}],\"choropleth\":[{\"type\":\"choropleth\",\"colorbar\":{\"outlinewidth\":0,\"ticks\":\"\"}}],\"histogram2d\":[{\"type\":\"histogram2d\",\"colorbar\":{\"outlinewidth\":0,\"ticks\":\"\"},\"colorscale\":[[0.0,\"#0d0887\"],[0.1111111111111111,\"#46039f\"],[0.2222222222222222,\"#7201a8\"],[0.3333333333333333,\"#9c179e\"],[0.4444444444444444,\"#bd3786\"],[0.5555555555555556,\"#d8576b\"],[0.6666666666666666,\"#ed7953\"],[0.7777777777777778,\"#fb9f3a\"],[0.8888888888888888,\"#fdca26\"],[1.0,\"#f0f921\"]]}],\"heatmap\":[{\"type\":\"heatmap\",\"colorbar\":{\"outlinewidth\":0,\"ticks\":\"\"},\"colorscale\":[[0.0,\"#0d0887\"],[0.1111111111111111,\"#46039f\"],[0.2222222222222222,\"#7201a8\"],[0.3333333333333333,\"#9c179e\"],[0.4444444444444444,\"#bd3786\"],[0.5555555555555556,\"#d8576b\"],[0.6666666666666666,\"#ed7953\"],[0.7777777777777778,\"#fb9f3a\"],[0.8888888888888888,\"#fdca26\"],[1.0,\"#f0f921\"]]}],\"heatmapgl\":[{\"type\":\"heatmapgl\",\"colorbar\":{\"outlinewidth\":0,\"ticks\":\"\"},\"colorscale\":[[0.0,\"#0d0887\"],[0.1111111111111111,\"#46039f\"],[0.2222222222222222,\"#7201a8\"],[0.3333333333333333,\"#9c179e\"],[0.4444444444444444,\"#bd3786\"],[0.5555555555555556,\"#d8576b\"],[0.6666666666666666,\"#ed7953\"],[0.7777777777777778,\"#fb9f3a\"],[0.8888888888888888,\"#fdca26\"],[1.0,\"#f0f921\"]]}],\"contourcarpet\":[{\"type\":\"contourcarpet\",\"colorbar\":{\"outlinewidth\":0,\"ticks\":\"\"}}],\"contour\":[{\"type\":\"contour\",\"colorbar\":{\"outlinewidth\":0,\"ticks\":\"\"},\"colorscale\":[[0.0,\"#0d0887\"],[0.1111111111111111,\"#46039f\"],[0.2222222222222222,\"#7201a8\"],[0.3333333333333333,\"#9c179e\"],[0.4444444444444444,\"#bd3786\"],[0.5555555555555556,\"#d8576b\"],[0.6666666666666666,\"#ed7953\"],[0.7777777777777778,\"#fb9f3a\"],[0.8888888888888888,\"#fdca26\"],[1.0,\"#f0f921\"]]}],\"surface\":[{\"type\":\"surface\",\"colorbar\":{\"outlinewidth\":0,\"ticks\":\"\"},\"colorscale\":[[0.0,\"#0d0887\"],[0.1111111111111111,\"#46039f\"],[0.2222222222222222,\"#7201a8\"],[0.3333333333333333,\"#9c179e\"],[0.4444444444444444,\"#bd3786\"],[0.5555555555555556,\"#d8576b\"],[0.6666666666666666,\"#ed7953\"],[0.7777777777777778,\"#fb9f3a\"],[0.8888888888888888,\"#fdca26\"],[1.0,\"#f0f921\"]]}],\"mesh3d\":[{\"type\":\"mesh3d\",\"colorbar\":{\"outlinewidth\":0,\"ticks\":\"\"}}],\"scatter\":[{\"fillpattern\":{\"fillmode\":\"overlay\",\"size\":10,\"solidity\":0.2},\"type\":\"scatter\"}],\"parcoords\":[{\"type\":\"parcoords\",\"line\":{\"colorbar\":{\"outlinewidth\":0,\"ticks\":\"\"}}}],\"scatterpolargl\":[{\"type\":\"scatterpolargl\",\"marker\":{\"colorbar\":{\"outlinewidth\":0,\"ticks\":\"\"}}}],\"bar\":[{\"error_x\":{\"color\":\"#2a3f5f\"},\"error_y\":{\"color\":\"#2a3f5f\"},\"marker\":{\"line\":{\"color\":\"#E5ECF6\",\"width\":0.5},\"pattern\":{\"fillmode\":\"overlay\",\"size\":10,\"solidity\":0.2}},\"type\":\"bar\"}],\"scattergeo\":[{\"type\":\"scattergeo\",\"marker\":{\"colorbar\":{\"outlinewidth\":0,\"ticks\":\"\"}}}],\"scatterpolar\":[{\"type\":\"scatterpolar\",\"marker\":{\"colorbar\":{\"outlinewidth\":0,\"ticks\":\"\"}}}],\"histogram\":[{\"marker\":{\"pattern\":{\"fillmode\":\"overlay\",\"size\":10,\"solidity\":0.2}},\"type\":\"histogram\"}],\"scattergl\":[{\"type\":\"scattergl\",\"marker\":{\"colorbar\":{\"outlinewidth\":0,\"ticks\":\"\"}}}],\"scatter3d\":[{\"type\":\"scatter3d\",\"line\":{\"colorbar\":{\"outlinewidth\":0,\"ticks\":\"\"}},\"marker\":{\"colorbar\":{\"outlinewidth\":0,\"ticks\":\"\"}}}],\"scattermapbox\":[{\"type\":\"scattermapbox\",\"marker\":{\"colorbar\":{\"outlinewidth\":0,\"ticks\":\"\"}}}],\"scatterternary\":[{\"type\":\"scatterternary\",\"marker\":{\"colorbar\":{\"outlinewidth\":0,\"ticks\":\"\"}}}],\"scattercarpet\":[{\"type\":\"scattercarpet\",\"marker\":{\"colorbar\":{\"outlinewidth\":0,\"ticks\":\"\"}}}],\"carpet\":[{\"aaxis\":{\"endlinecolor\":\"#2a3f5f\",\"gridcolor\":\"white\",\"linecolor\":\"white\",\"minorgridcolor\":\"white\",\"startlinecolor\":\"#2a3f5f\"},\"baxis\":{\"endlinecolor\":\"#2a3f5f\",\"gridcolor\":\"white\",\"linecolor\":\"white\",\"minorgridcolor\":\"white\",\"startlinecolor\":\"#2a3f5f\"},\"type\":\"carpet\"}],\"table\":[{\"cells\":{\"fill\":{\"color\":\"#EBF0F8\"},\"line\":{\"color\":\"white\"}},\"header\":{\"fill\":{\"color\":\"#C8D4E3\"},\"line\":{\"color\":\"white\"}},\"type\":\"table\"}],\"barpolar\":[{\"marker\":{\"line\":{\"color\":\"#E5ECF6\",\"width\":0.5},\"pattern\":{\"fillmode\":\"overlay\",\"size\":10,\"solidity\":0.2}},\"type\":\"barpolar\"}],\"pie\":[{\"automargin\":true,\"type\":\"pie\"}]},\"layout\":{\"autotypenumbers\":\"strict\",\"colorway\":[\"#636efa\",\"#EF553B\",\"#00cc96\",\"#ab63fa\",\"#FFA15A\",\"#19d3f3\",\"#FF6692\",\"#B6E880\",\"#FF97FF\",\"#FECB52\"],\"font\":{\"color\":\"#2a3f5f\"},\"hovermode\":\"closest\",\"hoverlabel\":{\"align\":\"left\"},\"paper_bgcolor\":\"white\",\"plot_bgcolor\":\"#E5ECF6\",\"polar\":{\"bgcolor\":\"#E5ECF6\",\"angularaxis\":{\"gridcolor\":\"white\",\"linecolor\":\"white\",\"ticks\":\"\"},\"radialaxis\":{\"gridcolor\":\"white\",\"linecolor\":\"white\",\"ticks\":\"\"}},\"ternary\":{\"bgcolor\":\"#E5ECF6\",\"aaxis\":{\"gridcolor\":\"white\",\"linecolor\":\"white\",\"ticks\":\"\"},\"baxis\":{\"gridcolor\":\"white\",\"linecolor\":\"white\",\"ticks\":\"\"},\"caxis\":{\"gridcolor\":\"white\",\"linecolor\":\"white\",\"ticks\":\"\"}},\"coloraxis\":{\"colorbar\":{\"outlinewidth\":0,\"ticks\":\"\"}},\"colorscale\":{\"sequential\":[[0.0,\"#0d0887\"],[0.1111111111111111,\"#46039f\"],[0.2222222222222222,\"#7201a8\"],[0.3333333333333333,\"#9c179e\"],[0.4444444444444444,\"#bd3786\"],[0.5555555555555556,\"#d8576b\"],[0.6666666666666666,\"#ed7953\"],[0.7777777777777778,\"#fb9f3a\"],[0.8888888888888888,\"#fdca26\"],[1.0,\"#f0f921\"]],\"sequentialminus\":[[0.0,\"#0d0887\"],[0.1111111111111111,\"#46039f\"],[0.2222222222222222,\"#7201a8\"],[0.3333333333333333,\"#9c179e\"],[0.4444444444444444,\"#bd3786\"],[0.5555555555555556,\"#d8576b\"],[0.6666666666666666,\"#ed7953\"],[0.7777777777777778,\"#fb9f3a\"],[0.8888888888888888,\"#fdca26\"],[1.0,\"#f0f921\"]],\"diverging\":[[0,\"#8e0152\"],[0.1,\"#c51b7d\"],[0.2,\"#de77ae\"],[0.3,\"#f1b6da\"],[0.4,\"#fde0ef\"],[0.5,\"#f7f7f7\"],[0.6,\"#e6f5d0\"],[0.7,\"#b8e186\"],[0.8,\"#7fbc41\"],[0.9,\"#4d9221\"],[1,\"#276419\"]]},\"xaxis\":{\"gridcolor\":\"white\",\"linecolor\":\"white\",\"ticks\":\"\",\"title\":{\"standoff\":15},\"zerolinecolor\":\"white\",\"automargin\":true,\"zerolinewidth\":2},\"yaxis\":{\"gridcolor\":\"white\",\"linecolor\":\"white\",\"ticks\":\"\",\"title\":{\"standoff\":15},\"zerolinecolor\":\"white\",\"automargin\":true,\"zerolinewidth\":2},\"scene\":{\"xaxis\":{\"backgroundcolor\":\"#E5ECF6\",\"gridcolor\":\"white\",\"linecolor\":\"white\",\"showbackground\":true,\"ticks\":\"\",\"zerolinecolor\":\"white\",\"gridwidth\":2},\"yaxis\":{\"backgroundcolor\":\"#E5ECF6\",\"gridcolor\":\"white\",\"linecolor\":\"white\",\"showbackground\":true,\"ticks\":\"\",\"zerolinecolor\":\"white\",\"gridwidth\":2},\"zaxis\":{\"backgroundcolor\":\"#E5ECF6\",\"gridcolor\":\"white\",\"linecolor\":\"white\",\"showbackground\":true,\"ticks\":\"\",\"zerolinecolor\":\"white\",\"gridwidth\":2}},\"shapedefaults\":{\"line\":{\"color\":\"#2a3f5f\"}},\"annotationdefaults\":{\"arrowcolor\":\"#2a3f5f\",\"arrowhead\":0,\"arrowwidth\":1},\"geo\":{\"bgcolor\":\"white\",\"landcolor\":\"#E5ECF6\",\"subunitcolor\":\"white\",\"showland\":true,\"showlakes\":true,\"lakecolor\":\"white\"},\"title\":{\"x\":0.05},\"mapbox\":{\"style\":\"light\"}}},\"scene\":{\"domain\":{\"x\":[0.0,1.0],\"y\":[0.0,1.0]},\"xaxis\":{\"title\":{\"text\":\"x\"}},\"yaxis\":{\"title\":{\"text\":\"y\"}},\"zaxis\":{\"title\":{\"text\":\"z\"}}},\"legend\":{\"tracegroupgap\":0},\"margin\":{\"t\":60}},                        {\"responsive\": true}                    ).then(function(){\n",
       "                            \n",
       "var gd = document.getElementById('a62771ed-09bd-4afd-ab41-b40a4cad5a4e');\n",
       "var x = new MutationObserver(function (mutations, observer) {{\n",
       "        var display = window.getComputedStyle(gd).display;\n",
       "        if (!display || display === 'none') {{\n",
       "            console.log([gd, 'removed!']);\n",
       "            Plotly.purge(gd);\n",
       "            observer.disconnect();\n",
       "        }}\n",
       "}});\n",
       "\n",
       "// Listen for the removal of the full notebook cells\n",
       "var notebookContainer = gd.closest('#notebook-container');\n",
       "if (notebookContainer) {{\n",
       "    x.observe(notebookContainer, {childList: true});\n",
       "}}\n",
       "\n",
       "// Listen for the clearing of the current output cell\n",
       "var outputEl = gd.closest('.output');\n",
       "if (outputEl) {{\n",
       "    x.observe(outputEl, {childList: true});\n",
       "}}\n",
       "\n",
       "                        })                };                });            </script>        </div>"
      ]
     },
     "metadata": {},
     "output_type": "display_data"
    }
   ],
   "source": [
    "# plt.imshow(weights[0])\n",
    "# plt.imshow(weights2[0])\n",
    "sampled_points.shape\n",
    "\n",
    "i = 0\n",
    "t = 1\n",
    "\n",
    "s = 0\n",
    "\n",
    "px.scatter_3d(x = sampled_points[i, t, :, s + 0],  y = sampled_points[i, t, :, s + 1], z = sampled_points[i, t, :, s + 2])"
   ]
  },
  {
   "cell_type": "code",
   "execution_count": 26,
   "id": "3c6dc2fe-fcf0-4a42-9c0c-14cc81b7ba9c",
   "metadata": {},
   "outputs": [
    {
     "name": "stdout",
     "output_type": "stream",
     "text": [
      "[0 1 2]\n",
      "[3 4 5]\n",
      "[6 7 8]\n",
      "[ 9 10 11]\n",
      "[12 13 14]\n",
      "[15 16]\n"
     ]
    }
   ],
   "source": [
    "n = 17\n",
    "g = 3\n",
    "\n",
    "list = np.arange(n)\n",
    "for i in range(n // g + 1):\n",
    "    print(list[i * g: (i + 1) * g])"
   ]
  },
  {
   "cell_type": "code",
   "execution_count": 42,
   "id": "843e23c2-ab26-42a4-b810-bd27df5abfee",
   "metadata": {},
   "outputs": [
    {
     "data": {
      "text/plain": [
       "KMeansOutput(centroids=Array([[[ 2.52278223e+04,  7.33899297e+04,  6.55359650e+01],\n",
       "        [ 2.52982383e+04,  7.33524375e+04,  5.06745834e+01],\n",
       "        [ 2.52065469e+04,  7.34003516e+04,  7.93828354e+01],\n",
       "        ...,\n",
       "        [ 2.51899570e+04,  7.33335781e+04,  7.79541931e+01],\n",
       "        [ 2.52813789e+04,  7.33288672e+04,  1.07810431e+01],\n",
       "        [ 2.52079688e+04,  7.33768359e+04,  6.46761169e+01]],\n",
       "\n",
       "       [[ 2.52270020e+04,  7.33887266e+04,  6.63811646e+01],\n",
       "        [ 2.52247207e+04,  7.33886875e+04,  6.58348236e+01],\n",
       "        [ 2.51865820e+04,  7.34067500e+04,  8.70516205e+01],\n",
       "        ...,\n",
       "        [ 2.51942305e+04,  7.33185000e+04,  1.04709015e+02],\n",
       "        [ 2.51633262e+04,  7.34268672e+04,  1.32889648e+02],\n",
       "        [ 2.52021406e+04,  7.33220312e+04,  6.39327469e+01]],\n",
       "\n",
       "       [[ 2.52273691e+04,  7.33881641e+04,  6.46088181e+01],\n",
       "        [ 2.52241582e+04,  7.33828359e+04,  6.49993286e+01],\n",
       "        [ 2.51736016e+04,  7.34125312e+04,  8.40334320e+01],\n",
       "        ...,\n",
       "        [ 2.53135605e+04,  7.33240781e+04,  1.02799072e+02],\n",
       "        [ 2.52024160e+04,  7.34412188e+04,  6.89665375e+01],\n",
       "        [ 2.52889238e+04,  7.34275781e+04,  2.27615986e+01]],\n",
       "\n",
       "       ...,\n",
       "\n",
       "       [[ 2.52286504e+04,  7.33887188e+04,  6.57147446e+01],\n",
       "        [ 2.52253574e+04,  7.33894375e+04,  6.70387955e+01],\n",
       "        [ 2.51850176e+04,  7.34040156e+04,  8.94041367e+01],\n",
       "        ...,\n",
       "        [ 2.52869492e+04,  7.33265938e+04,  7.33936539e+01],\n",
       "        [ 2.52169863e+04,  7.33565078e+04,  6.04244881e+01],\n",
       "        [ 2.52314199e+04,  7.33886953e+04,  6.56698608e+01]],\n",
       "\n",
       "       [[ 2.52264082e+04,  7.33929531e+04,  6.47418823e+01],\n",
       "        [ 2.52260625e+04,  7.33859141e+04,  6.51941223e+01],\n",
       "        [ 2.52061875e+04,  7.34176953e+04,  9.76068115e+01],\n",
       "        ...,\n",
       "        [ 2.52240977e+04,  7.33490156e+04,  5.60931664e+01],\n",
       "        [ 2.52817031e+04,  7.33910859e+04,  1.28971359e+02],\n",
       "        [ 2.52577988e+04,  7.33928047e+04,  4.98509140e+01]],\n",
       "\n",
       "       [[ 2.52268574e+04,  7.33887344e+04,  6.41497498e+01],\n",
       "        [ 2.52238652e+04,  7.33874844e+04,  6.69162445e+01],\n",
       "        [ 2.52329492e+04,  7.33958125e+04,  6.55918427e+01],\n",
       "        ...,\n",
       "        [ 2.51684727e+04,  7.33792500e+04, -7.30127029e+01],\n",
       "        [ 2.52950020e+04,  7.33511016e+04,  1.25559090e+02],\n",
       "        [ 2.52004746e+04,  7.34666172e+04,  9.40491180e+01]]],      dtype=float32), assignment=Array([[ 0,  3,  3, ..., 25, 32, 25],\n",
       "       [ 1,  1,  1, ..., 23, 37, 23],\n",
       "       [ 0,  0,  0, ..., 22, 43, 22],\n",
       "       ...,\n",
       "       [ 1,  0,  0, ..., 13, 43, 13],\n",
       "       [30, 30, 30, ..., 31, 29, 31],\n",
       "       [ 9,  1,  1, ..., 15, 21, 15]], dtype=int32), converged=Array([ True,  True,  True, False, False, False, False, False, False,\n",
       "        True], dtype=bool), iteration=Array([300, 300, 300, 300, 300, 300, 300, 300, 300, 300], dtype=int32), error=Array([-4714496., -3945472., -4214784., -4423680., -4217856., -4628480.,\n",
       "       -4068352., -4021248., -4718592., -4294656.], dtype=float32), inner_errors=None)"
      ]
     },
     "execution_count": 42,
     "metadata": {},
     "output_type": "execute_result"
    }
   ],
   "source": [
    "from functools import partial\n",
    "rng = random.PRNGKey(0)\n",
    "rngs = random.split(rng, 10)\n",
    "\n",
    "cloud = PointCloud(jnp.array(points_list[0]))\n",
    "\n",
    "cluster = partial(k_means.k_means, geom=cloud, k=downsample_size)\n",
    "cluster_rng = lambda rng : cluster(rng=rng)\n",
    "\n",
    "jit(vmap(cluster_rng))(rngs)\n",
    "# k_means.k_means(cloud, downsample_size)\n",
    "# k_means.k_means(cloud, 10)\n",
    "# cluster = jit(lambda cloud: k_means.k_means(cloud, downsample_size))\n",
    "\n",
    "# def kmeans_downsample_points2(points_list, downsample_size, n_trials, pbar=False, rng=None):\n",
    "#     rng = random.PRNGKey(0) if rng is None else rng\n",
    "#     random.split(rng, num=n_trials)\n",
    "#     dimension = points_list[0].shape[-1]\n",
    "#     sampled_points = jnp.zeros([len(points_list), n_trials, downsample_size, dimension])\n",
    "#     sampled_weights = jnp.zeros([len(points_list), n_trials, downsample_size])\n",
    "\n",
    "#     progress_bar = (\n",
    "#         tqdm(list(enumerate(points_list))) if pbar else enumerate(points_list)\n",
    "#     )\n",
    "    \n",
    "#     cluster = jit(lambda cloud: k_means.k_means(cloud, downsample_size))\n",
    "    \n",
    "#     for i, point_cloud in progress_bar:\n",
    "#         cluster_out = cluster(\n",
    "#             jnp.array(points_list[i]), downsample_size, n_trials, pbar=False\n",
    "#         )\n",
    "\n",
    "#         sampled_points = sampled_points.at[i].set(centers)\n",
    "#         sampled_weights = sampled_weights.at[i].set(weights)\n",
    "\n",
    "#     return sampled_points, sampled_weights"
   ]
  },
  {
   "cell_type": "code",
   "execution_count": 19,
   "id": "f789190f-01e5-42cc-b976-26f97bda92dd",
   "metadata": {},
   "outputs": [
    {
     "data": {
      "text/plain": [
       "KMeansOutput(centroids=Array([[ 2.52282695e+04,  7.33927500e+04,  6.50814056e+01],\n",
       "       [ 2.52161680e+04,  7.33639453e+04,  6.38781509e+01],\n",
       "       [ 2.51983320e+04,  7.33909531e+04,  9.26017685e+01],\n",
       "       [ 2.51721523e+04,  7.33844688e+04, -6.23125801e+01],\n",
       "       [ 2.52788984e+04,  7.33867500e+04,  7.08736038e+01],\n",
       "       [ 2.52088164e+04,  7.34250078e+04,  9.05932617e+01],\n",
       "       [ 2.52409473e+04,  7.33640156e+04,  3.57955437e+01],\n",
       "       [ 2.52412539e+04,  7.33819141e+04,  9.26097946e+01],\n",
       "       [ 2.52554668e+04,  7.34334453e+04,  7.58805618e+01],\n",
       "       [ 2.52292266e+04,  7.33929453e+04, -5.09938049e+00],\n",
       "       [ 2.52325059e+04,  7.34107422e+04,  4.27695465e+01],\n",
       "       [ 2.52228594e+04,  7.33152656e+04,  9.09434433e+01],\n",
       "       [ 2.52936230e+04,  7.34147734e+04,  4.29130783e+01],\n",
       "       [ 2.52273945e+04,  7.34514844e+04,  1.16925865e+02],\n",
       "       [ 2.51555293e+04,  7.33843906e+04,  9.37225418e+01],\n",
       "       [ 2.51889863e+04,  7.34145469e+04,  2.93850174e+01],\n",
       "       [ 2.53244668e+04,  7.33450547e+04,  8.56480865e+01],\n",
       "       [ 2.52657305e+04,  7.33494219e+04,  5.83184700e+01],\n",
       "       [ 2.52922227e+04,  7.33647109e+04,  1.68693600e+01],\n",
       "       [ 2.51680566e+04,  7.34616250e+04,  8.14186554e+01],\n",
       "       [ 2.51823086e+04,  7.33625859e+04,  4.71688423e+01],\n",
       "       [ 2.53226172e+04,  7.33472734e+04,  3.16092014e+01],\n",
       "       [ 2.52252227e+04,  7.33892656e+04,  6.60167694e+01],\n",
       "       [ 2.52816309e+04,  7.33116406e+04,  3.33473854e+01],\n",
       "       [ 2.51645449e+04,  7.34229531e+04, -1.48803720e+01],\n",
       "       [ 2.51894141e+04,  7.33364766e+04,  8.80803375e+01],\n",
       "       [ 2.52807832e+04,  7.33409219e+04,  1.18316406e+02],\n",
       "       [ 2.52505156e+04,  7.34522969e+04,  2.21091099e+01],\n",
       "       [ 2.52247500e+04,  7.33865312e+04,  6.60674057e+01],\n",
       "       [ 2.52157051e+04,  7.34565625e+04,  5.49030800e+01],\n",
       "       [ 2.52325625e+04,  7.33203672e+04,  2.66720905e+01],\n",
       "       [ 2.51598105e+04,  7.34112969e+04,  6.91791000e+01],\n",
       "       [ 2.52043066e+04,  7.34814141e+04,  1.87761345e+01],\n",
       "       [ 2.51670645e+04,  7.34217109e+04,  1.04899887e+02],\n",
       "       [ 2.52049336e+04,  7.33220547e+04,  1.73557491e+01],\n",
       "       [ 2.52374980e+04,  7.32836406e+04,  3.28818550e+01],\n",
       "       [ 2.52660020e+04,  7.34165547e+04,  1.03822952e+02],\n",
       "       [ 2.52866133e+04,  7.33813203e+04,  1.22750801e+02],\n",
       "       [ 2.51714199e+04,  7.33102891e+04,  2.70586205e+01],\n",
       "       [ 2.51712363e+04,  7.33650078e+04, -4.64188829e-02],\n",
       "       [ 2.51448105e+04,  7.33201484e+04,  3.36269264e+01],\n",
       "       [ 2.51729844e+04,  7.34376953e+04,  4.75639725e+01],\n",
       "       [ 2.51802578e+04,  7.34336797e+04,  1.48002655e+02],\n",
       "       [ 2.53222168e+04,  7.33183281e+04,  5.86739311e+01],\n",
       "       [ 2.52518418e+04,  7.33007734e+04,  7.23423691e+01],\n",
       "       [ 2.51990566e+04,  7.33932266e+04,  5.50381889e+01],\n",
       "       [ 2.52691992e+04,  7.33221484e+04,  7.89851761e+01],\n",
       "       [ 2.52773770e+04,  7.33331172e+04,  1.77264631e-01],\n",
       "       [ 2.52211562e+04,  7.33572500e+04,  1.07209579e+02],\n",
       "       [ 2.53013809e+04,  7.33760781e+04,  9.03537521e+01]],      dtype=float32), assignment=Array([ 0,  0,  0, ..., 24, 32, 24], dtype=int32), converged=Array(True, dtype=bool), iteration=Array(300, dtype=int32), error=Array(-4871168., dtype=float32), inner_errors=None)"
      ]
     },
     "execution_count": 19,
     "metadata": {},
     "output_type": "execute_result"
    }
   ],
   "source": [
    "func(jnp.array(points_list[0]))"
   ]
  },
  {
   "cell_type": "code",
   "execution_count": null,
   "id": "fee0f74e-971f-4ae1-88f9-b329bb408acf",
   "metadata": {},
   "outputs": [],
   "source": []
  },
  {
   "cell_type": "code",
   "execution_count": null,
   "id": "94d4c143-e47d-4bbe-a53e-c9c7336da916",
   "metadata": {},
   "outputs": [],
   "source": []
  }
 ],
 "metadata": {
  "kernelspec": {
   "display_name": "Python (jax-env)",
   "language": "python",
   "name": "jaxkernel"
  },
  "language_info": {
   "codemirror_mode": {
    "name": "ipython",
    "version": 3
   },
   "file_extension": ".py",
   "mimetype": "text/x-python",
   "name": "python",
   "nbconvert_exporter": "python",
   "pygments_lexer": "ipython3",
   "version": "3.11.5"
  }
 },
 "nbformat": 4,
 "nbformat_minor": 5
}
