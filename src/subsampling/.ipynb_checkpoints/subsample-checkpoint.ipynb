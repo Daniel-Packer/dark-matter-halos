{
 "cells": [
  {
   "cell_type": "code",
   "execution_count": 5,
   "id": "ae1ebe84-6420-401f-9a9e-704f490f2abe",
   "metadata": {},
   "outputs": [
    {
     "name": "stdout",
     "output_type": "stream",
     "text": [
      "The autoreload extension is already loaded. To reload it, use:\n",
      "  %reload_ext autoreload\n"
     ]
    }
   ],
   "source": [
    "%load_ext autoreload\n",
    "%autoreload 2"
   ]
  },
  {
   "cell_type": "code",
   "execution_count": 6,
   "id": "300a56b2-70ba-4d37-b329-35122f99fcad",
   "metadata": {},
   "outputs": [],
   "source": [
    "from subsample import *\n",
    "import numpy as np\n",
    "from jax import numpy as jnp\n",
    "from pathlib import Path\n",
    "import pickle\n",
    "import plotly.express as px\n",
    "rng = np.random.default_rng(seed=0)\n",
    "\n",
    "root_path = Path(\"../..\")\n",
    "data_path = root_path / \"data\""
   ]
  },
  {
   "cell_type": "code",
   "execution_count": 7,
   "id": "31eea9a7-7bb4-4c3d-9b73-119d7b6acb1e",
   "metadata": {},
   "outputs": [],
   "source": [
    "points_array, properties = pickle.load(open(data_path / \"halos.pkl\", 'rb'))\n",
    "points_list = [preprocess_pointcloud(p[\"Coordinates\"]) for p in points_array]\n",
    "velocities_list = [p[\"Velocities\"] for p in points_array]"
   ]
  },
  {
   "cell_type": "code",
   "execution_count": 8,
   "id": "d0cdda0e-da33-4dce-9ef7-21f496e52296",
   "metadata": {},
   "outputs": [
    {
     "ename": "SyntaxError",
     "evalue": "f-string: expecting '}' (2100291985.py, line 10)",
     "output_type": "error",
     "traceback": [
      "\u001b[0;36m  Cell \u001b[0;32mIn[8], line 10\u001b[0;36m\u001b[0m\n\u001b[0;31m    jnp.savez(data_path / f\"kmeans_subsampled_n{n_trials}_s{downsample_size}_v{\"I\" if include_velocities else \"O\"}.npz\", points=sampled_points, weights=sampled_weights)\u001b[0m\n\u001b[0m                                                                                ^\u001b[0m\n\u001b[0;31mSyntaxError\u001b[0m\u001b[0;31m:\u001b[0m f-string: expecting '}'\n"
     ]
    }
   ],
   "source": [
    "downsample_size = 50\n",
    "n_trials = 10\n",
    "include_velocities = True\n",
    "\n",
    "if include_velocities:\n",
    "    points_velos_list = [jnp.concatenate([p, v], -1) for p, v in zip(points_list, velocities_list)]\n",
    "    sampled_points, sampled_weights = kmeans_downsample_points(points_velos_list, downsample_size, n_trials, pbar=True)\n",
    "else:\n",
    "    sampled_points, sampled_weights = kmeans_downsample_points(points_list, downsample_size, n_trials, pbar=True)\n",
    "jnp.savez(data_path / f\"kmeans_subsampled_n{n_trials}_s{downsample_size}_v{'I' if include_velocities else 'O'}.npz\", points=sampled_points, weights=sampled_weights)"
   ]
  },
  {
   "cell_type": "code",
   "execution_count": null,
   "id": "b863be62-4323-4808-9d72-10617bd9435e",
   "metadata": {},
   "outputs": [],
   "source": []
  },
  {
   "cell_type": "code",
   "execution_count": null,
   "id": "f789190f-01e5-42cc-b976-26f97bda92dd",
   "metadata": {},
   "outputs": [],
   "source": []
  },
  {
   "cell_type": "code",
   "execution_count": null,
   "id": "fee0f74e-971f-4ae1-88f9-b329bb408acf",
   "metadata": {},
   "outputs": [],
   "source": []
  },
  {
   "cell_type": "code",
   "execution_count": null,
   "id": "94d4c143-e47d-4bbe-a53e-c9c7336da916",
   "metadata": {},
   "outputs": [],
   "source": []
  }
 ],
 "metadata": {
  "kernelspec": {
   "display_name": "Python (jax-env)",
   "language": "python",
   "name": "jaxkernel"
  },
  "language_info": {
   "codemirror_mode": {
    "name": "ipython",
    "version": 3
   },
   "file_extension": ".py",
   "mimetype": "text/x-python",
   "name": "python",
   "nbconvert_exporter": "python",
   "pygments_lexer": "ipython3",
   "version": "3.11.5"
  }
 },
 "nbformat": 4,
 "nbformat_minor": 5
}
