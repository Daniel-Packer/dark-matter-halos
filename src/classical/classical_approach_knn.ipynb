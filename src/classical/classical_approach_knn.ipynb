{
 "cells": [
  {
   "cell_type": "code",
   "execution_count": 1,
   "metadata": {},
   "outputs": [],
   "source": [
    "%load_ext autoreload\n",
    "%autoreload 2"
   ]
  },
  {
   "cell_type": "code",
   "execution_count": 2,
   "metadata": {},
   "outputs": [],
   "source": [
    "from classical_approach import *"
   ]
  },
  {
   "cell_type": "code",
   "execution_count": 3,
   "metadata": {},
   "outputs": [],
   "source": [
    "with open(halos_path, \"rb\") as f:\n",
    "  particles, halo_slice  = pickle.load(f)\n",
    "\n",
    "train_indices, test_indices = train_test_split(jnp.arange(len(particles)), test_size=0.5, random_state=42)\n",
    "\n",
    "labels = jnp.log10(\n",
    "    halo_slice[\"GroupStellarMass\"] * 1e10 / 0.677\n",
    ")  # label by logMstar\n",
    "logc = jnp.log10(\n",
    "    halo_slice[\"SubhaloVmax\"]\n",
    "    / jnp.sqrt(G * halo_slice[\"Group_M_Mean200\"] / halo_slice[\"Group_R_Mean200\"])\n",
    ")\n",
    "logm = jnp.log10(jnp.array([particle[\"count\"] for particle in particles]))\n",
    "\n",
    "\n",
    "train_labels, test_labels = labels[train_indices], labels[test_indices]\n",
    "train_logc, test_logc = logc[train_indices], logc[test_indices]\n",
    "train_logm, test_logm = logm[train_indices], logm[test_indices]"
   ]
  },
  {
   "cell_type": "code",
   "execution_count": 4,
   "metadata": {},
   "outputs": [],
   "source": [
    "train_x = jnp.stack([train_logc, train_logm], axis=-1)\n",
    "test_x = jnp.stack([test_logc, test_logm], axis=-1)\n",
    "mean_x = train_x.mean(axis=0, keepdims=True)\n",
    "std_x = train_x.std(axis=0, keepdims=True)\n",
    "\n",
    "train_transformed = (train_x - mean_x) / std_x\n",
    "test_transformed = (test_x - mean_x) / std_x"
   ]
  },
  {
   "cell_type": "code",
   "execution_count": null,
   "metadata": {},
   "outputs": [],
   "source": []
  }
 ],
 "metadata": {
  "kernelspec": {
   "display_name": "pyot",
   "language": "python",
   "name": "python3"
  },
  "language_info": {
   "codemirror_mode": {
    "name": "ipython",
    "version": 3
   },
   "file_extension": ".py",
   "mimetype": "text/x-python",
   "name": "python",
   "nbconvert_exporter": "python",
   "pygments_lexer": "ipython3",
   "version": "3.11.4"
  }
 },
 "nbformat": 4,
 "nbformat_minor": 2
}
